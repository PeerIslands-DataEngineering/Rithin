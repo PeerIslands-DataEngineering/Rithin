{
  "nbformat": 4,
  "nbformat_minor": 0,
  "metadata": {
    "colab": {
      "provenance": []
    },
    "kernelspec": {
      "name": "python3",
      "display_name": "Python 3"
    },
    "language_info": {
      "name": "python"
    }
  },
  "cells": [
    {
      "cell_type": "code",
      "source": [],
      "metadata": {
        "id": "7fe22H_kZicU"
      },
      "execution_count": null,
      "outputs": []
    },
    {
      "cell_type": "code",
      "source": [
        "from pyspark.sql import SparkSession\n",
        "from pyspark.sql.functions import avg,round\n",
        "\n",
        "spark=SparkSession.builder.appName(\"TitanicSurvivalRate\").getOrCreate()\n",
        "\n",
        "df=spark.read.parquet(\"titanic.parquet\")\n",
        "\n",
        "df.createOrReplaceTempView(\"passengers\")\n",
        "\n",
        "result=spark.sql(\"\"\"\n",
        "       SELECT\n",
        "        Pclass,\n",
        "        Sex,\n",
        "        ROUND(AVG(Survived), 2) AS SurvivalRate\n",
        "    FROM passengers\n",
        "    GROUP BY Pclass, Sex\n",
        "    ORDER BY Pclass, SurvivalRate DESC\n",
        "\"\"\")\n",
        "\n",
        "result.show()"
      ],
      "metadata": {
        "colab": {
          "base_uri": "https://localhost:8080/"
        },
        "id": "XxMpJZ7lveui",
        "outputId": "6a018bf8-d4dd-45ee-fc04-837fcc5c9296"
      },
      "execution_count": null,
      "outputs": [
        {
          "output_type": "stream",
          "name": "stdout",
          "text": [
            "+------+------+------------+\n",
            "|Pclass|   Sex|SurvivalRate|\n",
            "+------+------+------------+\n",
            "|     1|female|        0.97|\n",
            "|     1|  male|        0.37|\n",
            "|     2|female|        0.92|\n",
            "|     2|  male|        0.16|\n",
            "|     3|female|         0.5|\n",
            "|     3|  male|        0.14|\n",
            "+------+------+------------+\n",
            "\n"
          ]
        }
      ]
    },
    {
      "cell_type": "code",
      "source": [
        "import os\n",
        "\n",
        "print(\"Current working directory:\", os.getcwd())"
      ],
      "metadata": {
        "colab": {
          "base_uri": "https://localhost:8080/"
        },
        "id": "55rMMan_ynyt",
        "outputId": "0035aa82-b004-4815-effd-2d2e38630b13"
      },
      "execution_count": null,
      "outputs": [
        {
          "output_type": "stream",
          "name": "stdout",
          "text": [
            "Current working directory: /content\n"
          ]
        }
      ]
    },
    {
      "cell_type": "code",
      "source": [],
      "metadata": {
        "colab": {
          "base_uri": "https://localhost:8080/"
        },
        "id": "T2hpGfDZ0WJl",
        "outputId": "a0ab67f9-5771-4abd-bca3-14f2eb8d5bca"
      },
      "execution_count": null,
      "outputs": [
        {
          "output_type": "stream",
          "name": "stdout",
          "text": [
            "/content\n",
            "['.config', 'titanic.parquet', 'sample_data']\n"
          ]
        }
      ]
    },
    {
      "cell_type": "code",
      "source": [
        "from pyspark.sql.functions import avg, round\n",
        "\n",
        "result =  df.filter((df.Fare.isNotNull()) & (df.Age.isNotNull())).groupBy(\n",
        "        \"Embarked\").agg(\n",
        "        round(avg(\"Fare\"), 2).alias(\"AvgFare\"),\n",
        "        round(avg(\"Age\"), 2).alias(\"AvgAge\")\n",
        "    ).orderBy(\"AvgFare\", ascending=False)\n",
        "\n",
        "result.show()\n"
      ],
      "metadata": {
        "colab": {
          "base_uri": "https://localhost:8080/"
        },
        "id": "5jEpgtc74X6Y",
        "outputId": "2d64da82-502a-499b-f80d-6f989e56a192"
      },
      "execution_count": null,
      "outputs": [
        {
          "output_type": "stream",
          "name": "stdout",
          "text": [
            "+--------+-------+------+\n",
            "|Embarked|AvgFare|AvgAge|\n",
            "+--------+-------+------+\n",
            "|    NULL|   80.0|  50.0|\n",
            "|       C|   68.3| 30.81|\n",
            "|       S|  27.48| 29.45|\n",
            "|       Q|  18.27| 28.09|\n",
            "+--------+-------+------+\n",
            "\n"
          ]
        }
      ]
    },
    {
      "cell_type": "code",
      "source": [
        "df.show()"
      ],
      "metadata": {
        "colab": {
          "base_uri": "https://localhost:8080/"
        },
        "id": "TrwqCRjbL2OP",
        "outputId": "cdfff4c1-48b0-4a8f-8e82-2797eaee5d04"
      },
      "execution_count": null,
      "outputs": [
        {
          "output_type": "stream",
          "name": "stdout",
          "text": [
            "+-----------+--------+------+--------------------+------+----+-----+-----+----------------+-------+-----+--------+\n",
            "|PassengerId|Survived|Pclass|                Name|   Sex| Age|SibSp|Parch|          Ticket|   Fare|Cabin|Embarked|\n",
            "+-----------+--------+------+--------------------+------+----+-----+-----+----------------+-------+-----+--------+\n",
            "|          1|       0|     3|Braund, Mr. Owen ...|  male|22.0|    1|    0|       A/5 21171|   7.25| NULL|       S|\n",
            "|          2|       1|     1|Cumings, Mrs. Joh...|female|38.0|    1|    0|        PC 17599|71.2833|  C85|       C|\n",
            "|          3|       1|     3|Heikkinen, Miss. ...|female|26.0|    0|    0|STON/O2. 3101282|  7.925| NULL|       S|\n",
            "|          4|       1|     1|Futrelle, Mrs. Ja...|female|35.0|    1|    0|          113803|   53.1| C123|       S|\n",
            "|          5|       0|     3|Allen, Mr. Willia...|  male|35.0|    0|    0|          373450|   8.05| NULL|       S|\n",
            "|          6|       0|     3|    Moran, Mr. James|  male|NULL|    0|    0|          330877| 8.4583| NULL|       Q|\n",
            "|          7|       0|     1|McCarthy, Mr. Tim...|  male|54.0|    0|    0|           17463|51.8625|  E46|       S|\n",
            "|          8|       0|     3|Palsson, Master. ...|  male| 2.0|    3|    1|          349909| 21.075| NULL|       S|\n",
            "|          9|       1|     3|Johnson, Mrs. Osc...|female|27.0|    0|    2|          347742|11.1333| NULL|       S|\n",
            "|         10|       1|     2|Nasser, Mrs. Nich...|female|14.0|    1|    0|          237736|30.0708| NULL|       C|\n",
            "|         11|       1|     3|Sandstrom, Miss. ...|female| 4.0|    1|    1|         PP 9549|   16.7|   G6|       S|\n",
            "|         12|       1|     1|Bonnell, Miss. El...|female|58.0|    0|    0|          113783|  26.55| C103|       S|\n",
            "|         13|       0|     3|Saundercock, Mr. ...|  male|20.0|    0|    0|       A/5. 2151|   8.05| NULL|       S|\n",
            "|         14|       0|     3|Andersson, Mr. An...|  male|39.0|    1|    5|          347082| 31.275| NULL|       S|\n",
            "|         15|       0|     3|Vestrom, Miss. Hu...|female|14.0|    0|    0|          350406| 7.8542| NULL|       S|\n",
            "|         16|       1|     2|Hewlett, Mrs. (Ma...|female|55.0|    0|    0|          248706|   16.0| NULL|       S|\n",
            "|         17|       0|     3|Rice, Master. Eugene|  male| 2.0|    4|    1|          382652| 29.125| NULL|       Q|\n",
            "|         18|       1|     2|Williams, Mr. Cha...|  male|NULL|    0|    0|          244373|   13.0| NULL|       S|\n",
            "|         19|       0|     3|Vander Planke, Mr...|female|31.0|    1|    0|          345763|   18.0| NULL|       S|\n",
            "|         20|       1|     3|Masselmani, Mrs. ...|female|NULL|    0|    0|            2649|  7.225| NULL|       C|\n",
            "+-----------+--------+------+--------------------+------+----+-----+-----+----------------+-------+-----+--------+\n",
            "only showing top 20 rows\n",
            "\n"
          ]
        }
      ]
    },
    {
      "cell_type": "code",
      "source": [
        "result=df.filter(df.Survived==1).select(\"Name\",\"PClass\",\"Fare\",\"Cabin\").orderBy(df.Fare.desc()).limit(5)\n",
        "result.show()\n"
      ],
      "metadata": {
        "colab": {
          "base_uri": "https://localhost:8080/"
        },
        "id": "qvo5W6DiMrAO",
        "outputId": "c9f3020e-b002-4288-edfa-8f42770497f3"
      },
      "execution_count": null,
      "outputs": [
        {
          "output_type": "stream",
          "name": "stdout",
          "text": [
            "+--------------------+------+--------+-----------+\n",
            "|                Name|PClass|    Fare|      Cabin|\n",
            "+--------------------+------+--------+-----------+\n",
            "|    Ward, Miss. Anna|     1|512.3292|       NULL|\n",
            "|Cardeza, Mr. Thom...|     1|512.3292|B51 B53 B55|\n",
            "|Lesurer, Mr. Gust...|     1|512.3292|       B101|\n",
            "|Fortune, Miss. Ma...|     1|   263.0|C23 C25 C27|\n",
            "|Fortune, Miss. Al...|     1|   263.0|C23 C25 C27|\n",
            "+--------------------+------+--------+-----------+\n",
            "\n"
          ]
        }
      ]
    },
    {
      "cell_type": "code",
      "source": [],
      "metadata": {
        "id": "MXjwJyowUYQ6"
      },
      "execution_count": null,
      "outputs": []
    }
  ]
}