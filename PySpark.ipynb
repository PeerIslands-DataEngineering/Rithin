{
  "nbformat": 4,
  "nbformat_minor": 0,
  "metadata": {
    "colab": {
      "provenance": []
    },
    "kernelspec": {
      "name": "python3",
      "display_name": "Python 3"
    },
    "language_info": {
      "name": "python"
    }
  },
  "cells": [
    {
      "cell_type": "code",
      "execution_count": 10,
      "metadata": {
        "colab": {
          "base_uri": "https://localhost:8080/"
        },
        "id": "jZQBB9HsuruD",
        "outputId": "553ba8e4-6638-47c6-c1f3-72ad5e5ff398"
      },
      "outputs": [
        {
          "output_type": "stream",
          "name": "stdout",
          "text": [
            "+------------+------------+--------------------+--------------------+-------------+------+-------------------+---------+--------------------+--------------------+---------+-------------+--------------------+--------------------+\n",
            "|Company Name|Founded Year|                  HQ|            Industry|Total Funding|   ARR|          Valuation|Employees|       Top Investors|             Product|G2 Rating|Valuation_Num|             ARR_Num|         Funding_Num|\n",
            "+------------+------------+--------------------+--------------------+-------------+------+-------------------+---------+--------------------+--------------------+---------+-------------+--------------------+--------------------+\n",
            "|   Microsoft|        1975|    Redmond, WA, USA| Enterprise Software|          $1B| $270B|                $3T|  221,000|Bill Gates, Paul ...|Azure, Office 365...|      4.4|       3.0E12|              2.7E11|               1.0E9|\n",
            "|  Salesforce|        1999|San Francisco, CA...|                 CRM|       $65.4M|$37.9B|            $227.8B|   75,000|Halsey Minor, Lar...|Sales Cloud, Serv...|      4.3|     2.278E11|             3.79E10| 6.540000000000001E7|\n",
            "|       Adobe|        1982|   San Jose, CA, USA|   Creative Software|        $2.5M|$19.4B|              $240B|   29,945|   Hambrecht & Quist|Creative Cloud, D...|      4.5|       2.4E11|             1.94E10|           2500000.0|\n",
            "|      Oracle|        1977|     Austin, TX, USA|Database & Enterp...|          $2K|$52.9B|              $350B|  143,000|Larry Ellison, Bo...|Oracle Cloud, Net...|      4.0|       3.5E11|             5.29E10|              2000.0|\n",
            "|         SAP|        1972|   Walldorf, Germany| Enterprise Software|          N/A|$32.5B|              $215B|  107,415|Dietmar Hopp, Kla...|S/4HANA, SuccessF...|      4.1|      2.15E11|             3.25E10|                NULL|\n",
            "|      Intuit|        1983|Mountain View, CA...|  Financial Software|        $273M|$14.4B|              $180B|   18,200|Sierra Ventures, ...|QuickBooks, TurboTax|      4.4|       1.8E11|             1.44E10|              2.73E8|\n",
            "|  ServiceNow|        2004|Santa Clara, CA, USA|IT Service Manage...|       $82.5M| $8.9B|              $147B|   20,000|JMI Equity, Sequo...|IT Service Manage...|      4.4|      1.47E11|               8.9E9|              8.25E7|\n",
            "|     Workday|        2005| Pleasanton, CA, USA|        HR & Finance|      $249.9M| $7.3B|               $65B|   18,800|Greylock Partners...|HCM, Financial Ma...|      4.2|       6.5E10|               7.3E9|             2.499E8|\n",
            "|        Zoom|        2011|   San Jose, CA, USA|Video Communications|      $145.5M| $4.5B|               $85B|    7,388|Sequoia Capital, ...|Video Conferencin...|      4.5|       8.5E10|               4.5E9|             1.455E8|\n",
            "|     Shopify|        2006|      Ottawa, Canada|          E-commerce|      $122.3M| $7.1B|               $95B|   11,600|Bessemer, FirstMa...| E-commerce Platform|      4.4|       9.5E10|               7.1E9|             1.223E8|\n",
            "|   Atlassian|        2002|   Sydney, Australia|Collaboration Sof...|         $60M| $3.5B|               $55B|   11,800|      Accel Partners|Jira, Confluence,...|      4.3|       5.5E10|               3.5E9|               6.0E7|\n",
            "|   Snowflake|        2012|    Bozeman, MT, USA|    Data Warehousing|        $1.4B| $2.8B|               $75B|    6,500|Sequoia, ICONIQ, ...| Cloud Data Platform|      4.4|       7.5E10|               2.8E9|               1.4E9|\n",
            "|     HubSpot|        2006|  Cambridge, MA, USA|   Marketing & Sales|      $100.5M| $2.2B|               $32B|    7,600|General Catalyst,...|Marketing Hub, Sa...|      4.4|       3.2E10|               2.2E9|             1.005E8|\n",
            "|    DocuSign|        2003|San Francisco, CA...|  Digital Agreements|      $514.3M| $2.5B|               $10B|    7,336|Kleiner Perkins, ...|eSignature, Contr...|      4.5|       1.0E10|               2.5E9|5.1429999999999994E8|\n",
            "|       Slack|        2009|San Francisco, CA...|  Team Communication|        $1.4B| $1.7B|$27.7B (Salesforce)|    2,545|Accel, Andreessen...|Team Messaging Pl...|      4.5|      2.77E10|               1.7E9|               1.4E9|\n",
            "|      Notion|        2013|San Francisco, CA...|        Productivity|        $353M| $400M|               $10B|      800|Index Ventures, S...|All-in-one workspace|      4.7|       1.0E10|               4.0E8|              3.53E8|\n",
            "|     Datadog|        2010|   New York, NY, USA|Monitoring & Anal...|      $147.9M| $2.1B|               $44B|    5,200|ICONIQ, Index Ven...|Infrastructure Mo...|      4.4|       4.4E10|               2.1E9|             1.479E8|\n",
            "|     MongoDB|        2007|   New York, NY, USA|            Database|      $311.2M| $1.7B|               $26B|    4,500|   Sequoia, NEA, USV|Document Database...|      4.5|       2.6E10|               1.7E9|             3.112E8|\n",
            "|        Okta|        2009|San Francisco, CA...| Identity Management|      $230.5M| $2.2B|               $25B|    5,900|Andreessen Horowi...|Identity & Access...|      4.4|       2.5E10|               2.2E9|             2.305E8|\n",
            "|      Twilio|        2008|San Francisco, CA...|      Communications|      $261.3M| $4.1B|               $12B|    7,867|Bessemer, Union S...| Communications APIs|      4.3|       1.2E10|4.0999999999999995E9|             2.613E8|\n",
            "+------------+------------+--------------------+--------------------+-------------+------+-------------------+---------+--------------------+--------------------+---------+-------------+--------------------+--------------------+\n",
            "only showing top 20 rows\n",
            "\n"
          ]
        }
      ],
      "source": [
        "from pyspark.sql.functions import udf,col\n",
        "from pyspark.sql.types import DoubleType\n",
        "from pyspark.sql import SparkSession\n",
        "import re\n",
        "\n",
        "spark=SparkSession.builder.appName(\"udf\").getOrCreate()\n",
        "\n",
        "df=spark.read.csv(\"saas.csv\",header=True,inferSchema=True)\n",
        "\n",
        "def convert_currency(val):\n",
        "  if val in [\"N/A\",\"UNKNOWN\",\"\",\"NA\"]:\n",
        "    return None\n",
        "\n",
        "  if val is None:\n",
        "    return None\n",
        "  val=val.replace(\"$\",\"\").strip()\n",
        "  val = re.sub(r\"\\(.*?\\)\", \"\", val).strip()\n",
        "  if val.endswith(\"B\"):\n",
        "    return float(val.replace(\"B\",\"\").strip())*1000000000\n",
        "  elif val.endswith(\"M\"):\n",
        "    return float(val.replace(\"M\",\"\").strip())*1000000\n",
        "  elif val.endswith(\"T\"):\n",
        "    return float(val.replace(\"T\",\"\").strip())*1000000000000\n",
        "  elif val.endswith(\"K\"):\n",
        "    return float(val.replace(\"K\",\"\").strip())*1000\n",
        "  else:\n",
        "    return float(val)\n",
        "\n",
        "convert_currency_udf = udf(convert_currency, DoubleType())\n",
        "\n",
        "df=df.withColumn(\"Valuation_Num\",convert_currency_udf(col(\"Valuation\")))\\\n",
        "     .withColumn(\"ARR_Num\",convert_currency_udf(col(\"ARR\")))\\\n",
        "     .withColumn(\"Funding_Num\",convert_currency_udf(col(\"Total Funding\")))\n",
        "df.show()\n",
        "\n"
      ]
    },
    {
      "cell_type": "code",
      "source": [
        "from pyspark.sql.window import Window\n",
        "from pyspark.sql.functions import rank,col\n",
        "\n",
        "performers_window=Window.partitionBy(\"Industry\").orderBy(col(\"Valuation_Num\").desc())\n",
        "ranked_df=df.withColumn(\"Rank\",rank().over(performers_window)).filter(col(\"Rank\")<=2)\n",
        "ranked_df.select(\"Industry\",\"Company Name\",\"Valuation\",\"Valuation_Num\",\"Rank\").show()"
      ],
      "metadata": {
        "colab": {
          "base_uri": "https://localhost:8080/"
        },
        "id": "MsRsW0KG1KJV",
        "outputId": "c74758c8-5b3b-4375-a2d7-755e7cca2c6d"
      },
      "execution_count": 14,
      "outputs": [
        {
          "output_type": "stream",
          "name": "stdout",
          "text": [
            "+--------------------+------------+--------------+-------------+--------------+\n",
            "|            Industry|Company Name|     Valuation|Valuation_Num|Valuation_Rank|\n",
            "+--------------------+------------+--------------+-------------+--------------+\n",
            "|                 APM| AppDynamics| $3.7B (Cisco)|        3.7E9|             1|\n",
            "|                BNPL|      Affirm|          $12B|       1.2E10|             1|\n",
            "|Business Intellig...|      Looker|$2.6B (Google)|        2.6E9|             1|\n",
            "|               CI/CD|    CircleCI|         $1.7B|        1.7E9|             1|\n",
            "|                 CRM|  Salesforce|       $227.8B|     2.278E11|             1|\n",
            "|        Card Issuing|     Marqeta|         $4.3B|        4.3E9|             1|\n",
            "|      Cloud Security|     Zscaler|          $30B|       3.0E10|             1|\n",
            "|      Cloud Security|    Netskope|         $7.5B|        7.5E9|             2|\n",
            "|       Cloud Storage|     Dropbox|         $8.5B|        8.5E9|             1|\n",
            "|       Cloud Storage|         Box|         $3.5B|        3.5E9|             2|\n",
            "|       Collaboration|        Miro|        $17.5B|      1.75E10|             1|\n",
            "|Collaboration Sof...|   Atlassian|          $55B|       5.5E10|             1|\n",
            "|      Communications|      Twilio|          $12B|       1.2E10|             1|\n",
            "|      Communications| RingCentral|           $5B|        5.0E9|             2|\n",
            "|        Construction|     Procore|           $9B|        9.0E9|             1|\n",
            "|      Contact Center|       Five9|           $8B|        8.0E9|             1|\n",
            "|     Corporate Cards|        Brex|        $12.3B|      1.23E10|             1|\n",
            "|   Creative Software|       Adobe|         $240B|       2.4E11|             1|\n",
            "|       Customer Data|     Segment|$3.2B (Twilio)|        3.2E9|             1|\n",
            "| Customer Engagement|       Braze|         $5.6B|        5.6E9|             1|\n",
            "+--------------------+------------+--------------+-------------+--------------+\n",
            "only showing top 20 rows\n",
            "\n"
          ]
        }
      ]
    },
    {
      "cell_type": "code",
      "source": [
        "from pyspark.sql.window import Window\n",
        "from pyspark.sql.functions import lag, col\n",
        "\n",
        "arr_window=Window.partitionBy(\"Industry\").orderBy(col(\"ARR_NUM\").desc())\n",
        "\n",
        "lag_df=df.withColumn(\"Previous_ARR\",lag(\"ARR_NUM\").over(arr_window))\\\n",
        "         .withColumn(\"ARR_difference\",col(\"Previous_ARR\")-col(\"ARR_NUM\"))\\\n",
        "         .filter(col(\"ARR_difference\")>1000000000)\n",
        "\n",
        "lag_df.select(\"Industry\",\"Company Name\",\"ARR\",\"ARR_Num\",\"Previous_ARR\",\"ARR_difference\").show()\n",
        "\n"
      ],
      "metadata": {
        "colab": {
          "base_uri": "https://localhost:8080/"
        },
        "id": "X9C8Xvuh33r5",
        "outputId": "09cc8278-cb1d-4960-a3d7-f214b26dc70e"
      },
      "execution_count": 20,
      "outputs": [
        {
          "output_type": "stream",
          "name": "stdout",
          "text": [
            "+-------------------+------------+------+-------+--------------------+--------------------+\n",
            "|           Industry|Company Name|   ARR|ARR_Num|        Previous_ARR|      ARR_difference|\n",
            "+-------------------+------------+------+-------+--------------------+--------------------+\n",
            "|     Cloud Security|    Netskope| $500M|  5.0E8|               1.6E9|               1.1E9|\n",
            "|      Cloud Storage|         Box|   $1B|  1.0E9|               2.5E9|               1.5E9|\n",
            "|     Communications| RingCentral| $2.2B|  2.2E9|4.0999999999999995E9|1.8999999999999995E9|\n",
            "|      Cybersecurity| CrowdStrike| $3.1B|  3.1E9|               7.5E9|               4.4E9|\n",
            "|     Data Analytics|    Palantir| $2.2B|  2.2E9|               3.7E9|               1.5E9|\n",
            "|           Database|       Redis| $100M|  1.0E8|               1.7E9|               1.6E9|\n",
            "|             Design|       Figma| $600M|  6.0E8|               2.0E9|               1.4E9|\n",
            "|Enterprise Software|         SAP|$32.5B|3.25E10|              2.7E11|            2.375E11|\n",
            "|           Payments|      Stripe|  $14B| 1.4E10|             1.97E10|               5.7E9|\n",
            "+-------------------+------------+------+-------+--------------------+--------------------+\n",
            "\n"
          ]
        }
      ]
    },
    {
      "cell_type": "code",
      "source": [
        "from pyspark.sql.functions import col,when\n",
        "\n",
        "df=df.withColumn(\"Rating\",when(col(\"G2 Rating\")>=4.7,\"Excellent\")\\\n",
        "                          .when((col(\"G2 Rating\")>=4.3)& (col(\"G2 Rating\")<4.7),\"Very Good\")\\\n",
        "                          .when((col(\"G2 Rating\")>=4.0) & (col(\"G2 Rating\")<4.3),\"Good\")\\\n",
        "                          .otherwise(\"Average\")\n",
        "              )\n",
        "\n",
        "df.select(\"Company Name\",\"G2 Rating\",\"Rating\").orderBy(col(\"G2 Rating\")).show()"
      ],
      "metadata": {
        "colab": {
          "base_uri": "https://localhost:8080/"
        },
        "id": "V4rxQ4PK6vQK",
        "outputId": "28b1f8bd-244c-4f17-c967-8fb534310450"
      },
      "execution_count": 21,
      "outputs": [
        {
          "output_type": "stream",
          "name": "stdout",
          "text": [
            "+------------+---------+---------+\n",
            "|Company Name|G2 Rating|   Rating|\n",
            "+------------+---------+---------+\n",
            "|      Oracle|      4.0|     Good|\n",
            "|    Palantir|      4.0|     Good|\n",
            "|    SendGrid|      4.0|     Good|\n",
            "|         SAP|      4.1|     Good|\n",
            "|      Affirm|      4.1|     Good|\n",
            "|      Square|      4.2|     Good|\n",
            "|     Workday|      4.2|     Good|\n",
            "|         Box|      4.2|     Good|\n",
            "|  Sumo Logic|      4.2|     Good|\n",
            "| RingCentral|      4.2|     Good|\n",
            "|         Wix|      4.2|     Good|\n",
            "|      Tanium|      4.2|     Good|\n",
            "|ServiceTitan|      4.2|     Good|\n",
            "|       Vimeo|      4.2|     Good|\n",
            "|  Salesforce|      4.3|Very Good|\n",
            "|   Atlassian|      4.3|Very Good|\n",
            "|      Twilio|      4.3|Very Good|\n",
            "|   Mailchimp|      4.3|Very Good|\n",
            "|       Asana|      4.3|Very Good|\n",
            "|     Zendesk|      4.3|Very Good|\n",
            "+------------+---------+---------+\n",
            "only showing top 20 rows\n",
            "\n"
          ]
        }
      ]
    },
    {
      "cell_type": "code",
      "source": [
        "from pyspark.sql import Row\n",
        "\n",
        "investor_tiers = spark.createDataFrame([\n",
        "    (\"Accel\", \"Tier 1\"),\n",
        "    (\"Sequoia\", \"Tier 1\"),\n",
        "    (\"Andreessen Horowitz\", \"Tier 1\"),\n",
        "    (\"SoftBank\", \"Tier 2\"),\n",
        "    (\"Lightspeed\", \"Tier 2\"),\n",
        "    (\"Unknown\", \"Tier 3\")\n",
        "], [\"Investor\", \"Tier\"])\n",
        "\n",
        "investor_tiers.show()\n"
      ],
      "metadata": {
        "colab": {
          "base_uri": "https://localhost:8080/"
        },
        "id": "v6JFIbgu9kE6",
        "outputId": "e682a76c-e98d-4cc4-f951-9f6a393ddb1b"
      },
      "execution_count": 23,
      "outputs": [
        {
          "output_type": "stream",
          "name": "stdout",
          "text": [
            "+-------------------+------+\n",
            "|           Investor|  Tier|\n",
            "+-------------------+------+\n",
            "|              Accel|Tier 1|\n",
            "|            Sequoia|Tier 1|\n",
            "|Andreessen Horowitz|Tier 1|\n",
            "|           SoftBank|Tier 2|\n",
            "|         Lightspeed|Tier 2|\n",
            "|            Unknown|Tier 3|\n",
            "+-------------------+------+\n",
            "\n"
          ]
        }
      ]
    },
    {
      "cell_type": "code",
      "source": [
        "from pyspark.sql.functions import split,col\n",
        "\n",
        "df_new=df.withColumn(\"First_Investor\",split(col(\"Top Investors\"),\",\").getItem(0))\n",
        "\n",
        "df_newjoin=df_new.join(investor_tiers,df_new[\"First_Investor\"]==investor_tiers[\"Investor\"],how=\"inner\")\\\n",
        "              .filter(col(\"Tier\").isin(\"Tier 1\",\"Tier 2\"))\n",
        "\n",
        "df_newjoin.select(\"Company Name\",\"First_Investor\",\"Tier\",\"Valuation\").show()\n",
        ""
      ],
      "metadata": {
        "colab": {
          "base_uri": "https://localhost:8080/"
        },
        "id": "vU1GNoRh9uxm",
        "outputId": "151be54f-efee-4f35-ed56-b6b96202db95"
      },
      "execution_count": 36,
      "outputs": [
        {
          "output_type": "stream",
          "name": "stdout",
          "text": [
            "+------------------+-------------------+------+--------------------+\n",
            "|      Company Name|     First_Investor|  Tier|           Valuation|\n",
            "+------------------+-------------------+------+--------------------+\n",
            "|           Algolia|              Accel|Tier 1|               $2.3B|\n",
            "|        Sumo Logic|              Accel|Tier 1|               $2.3B|\n",
            "|           Segment|              Accel|Tier 1|      $3.2B (Twilio)|\n",
            "|        Freshworks|              Accel|Tier 1|               $5.2B|\n",
            "|             Slack|              Accel|Tier 1| $27.7B (Salesforce)|\n",
            "|          Netskope|            Sequoia|Tier 1|               $7.5B|\n",
            "|           Verkada|            Sequoia|Tier 1|               $3.2B|\n",
            "|              Gong|            Sequoia|Tier 1|               $7.3B|\n",
            "|         Qualtrics|            Sequoia|Tier 1|$12.5B (Silver Lake)|\n",
            "|       RingCentral|            Sequoia|Tier 1|                 $5B|\n",
            "|Palo Alto Networks|            Sequoia|Tier 1|                $95B|\n",
            "|         Amplitude|            Sequoia|Tier 1|                 $4B|\n",
            "|         Confluent|            Sequoia|Tier 1|               $9.1B|\n",
            "|            UiPath|            Sequoia|Tier 1|                 $7B|\n",
            "|           Dropbox|            Sequoia|Tier 1|               $8.5B|\n",
            "|             Canva|            Sequoia|Tier 1|                $40B|\n",
            "|            Stripe|            Sequoia|Tier 1|                $65B|\n",
            "|           MongoDB|            Sequoia|Tier 1|                $26B|\n",
            "|         Snowflake|            Sequoia|Tier 1|                $75B|\n",
            "|            Tanium|Andreessen Horowitz|Tier 1|               $9.5B|\n",
            "+------------------+-------------------+------+--------------------+\n",
            "only showing top 20 rows\n",
            "\n"
          ]
        }
      ]
    },
    {
      "cell_type": "code",
      "source": [
        "industry_medians = spark.createDataFrame([\n",
        "    (\"Enterprise Software\", 150_000_000_000),\n",
        "    (\"CRM\", 100_000_000_000),\n",
        "    (\"AI\", 70_000_000_000),\n",
        "    (\"HRTech\", 50_000_000_000),\n",
        "], [\"Industry\", \"Median_Valuation\"])\n",
        "\n",
        "industry_medians.show()\n"
      ],
      "metadata": {
        "colab": {
          "base_uri": "https://localhost:8080/"
        },
        "id": "3pwpd0QTAy8S",
        "outputId": "bb3adbd8-6d47-41ee-c0bc-3427b35673f3"
      },
      "execution_count": 25,
      "outputs": [
        {
          "output_type": "stream",
          "name": "stdout",
          "text": [
            "+-------------------+----------------+\n",
            "|           Industry|Median_Valuation|\n",
            "+-------------------+----------------+\n",
            "|Enterprise Software|    150000000000|\n",
            "|                CRM|    100000000000|\n",
            "|                 AI|     70000000000|\n",
            "|             HRTech|     50000000000|\n",
            "+-------------------+----------------+\n",
            "\n"
          ]
        }
      ]
    },
    {
      "cell_type": "code",
      "source": [
        "from pyspark.sql.functions import when\n",
        "\n",
        "df_joined=df.join(industry_medians, on=\"Industry\", how=\"left\")\n",
        "\n",
        "df_median=df_joined.withColumn(\"Valuation_position\",\n",
        "                               when (col(\"Valuation_Num\") > col(\"Median_valuation\"),\"Above Median\")\\\n",
        "                               .otherwise(\"Below Median\")\n",
        "                               )\n",
        "\n",
        "df_median.select(\"Industry\",\"Company Name\",\"Valuation\",\"Valuation_Num\",\"Median_Valuation\",\"Valuation_position\").show()"
      ],
      "metadata": {
        "colab": {
          "base_uri": "https://localhost:8080/"
        },
        "id": "PrPAkLu9A5TL",
        "outputId": "321338e3-c6b6-403e-9233-da9f25825fa3"
      },
      "execution_count": 28,
      "outputs": [
        {
          "output_type": "stream",
          "name": "stdout",
          "text": [
            "+--------------------+------------+-------------------+-------------+----------------+------------------+\n",
            "|            Industry|Company Name|          Valuation|Valuation_Num|Median_Valuation|Valuation_position|\n",
            "+--------------------+------------+-------------------+-------------+----------------+------------------+\n",
            "|Video Communications|        Zoom|               $85B|       8.5E10|            NULL|      Below Median|\n",
            "|            Payments|      Stripe|               $65B|       6.5E10|            NULL|      Below Median|\n",
            "|Collaboration Sof...|   Atlassian|               $55B|       5.5E10|            NULL|      Below Median|\n",
            "|Database & Enterp...|      Oracle|              $350B|       3.5E11|            NULL|      Below Median|\n",
            "|        HR & Finance|     Workday|               $65B|       6.5E10|            NULL|      Below Median|\n",
            "|  Team Communication|       Slack|$27.7B (Salesforce)|      2.77E10|            NULL|      Below Median|\n",
            "|   Creative Software|       Adobe|              $240B|       2.4E11|            NULL|      Below Median|\n",
            "| Enterprise Software|   Microsoft|                $3T|       3.0E12|    150000000000|      Above Median|\n",
            "| Enterprise Software|         SAP|              $215B|      2.15E11|    150000000000|      Above Median|\n",
            "|      Communications|      Twilio|               $12B|       1.2E10|            NULL|      Below Median|\n",
            "|          E-commerce|     Shopify|               $95B|       9.5E10|            NULL|      Below Median|\n",
            "|        Productivity|      Notion|               $10B|       1.0E10|            NULL|      Below Median|\n",
            "| Identity Management|        Okta|               $25B|       2.5E10|            NULL|      Below Median|\n",
            "|  Digital Agreements|    DocuSign|               $10B|       1.0E10|            NULL|      Below Median|\n",
            "|IT Service Manage...|  ServiceNow|              $147B|      1.47E11|            NULL|      Below Median|\n",
            "|Monitoring & Anal...|     Datadog|               $44B|       4.4E10|            NULL|      Below Median|\n",
            "|   Marketing & Sales|     HubSpot|               $32B|       3.2E10|            NULL|      Below Median|\n",
            "|            Database|     MongoDB|               $26B|       2.6E10|            NULL|      Below Median|\n",
            "|                 CRM|  Salesforce|            $227.8B|     2.278E11|    100000000000|      Above Median|\n",
            "|    Data Warehousing|   Snowflake|               $75B|       7.5E10|            NULL|      Below Median|\n",
            "+--------------------+------------+-------------------+-------------+----------------+------------------+\n",
            "only showing top 20 rows\n",
            "\n"
          ]
        }
      ]
    },
    {
      "cell_type": "code",
      "source": [],
      "metadata": {
        "id": "9VI9x8yKbcMy"
      },
      "execution_count": null,
      "outputs": []
    }
  ]
}