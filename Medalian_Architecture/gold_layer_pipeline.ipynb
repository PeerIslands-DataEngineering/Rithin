{
 "cells": [
  {
   "cell_type": "code",
   "execution_count": 0,
   "metadata": {
    "application/vnd.databricks.v1+cell": {
     "cellMetadata": {
      "byteLimit": 2048000,
      "rowLimit": 10000
     },
     "inputWidgets": {},
     "nuid": "f10f25dd-5912-4361-81d5-545af794a884",
     "showTitle": false,
     "tableResultSettingsMap": {},
     "title": ""
    }
   },
   "outputs": [
    {
     "output_type": "stream",
     "name": "stdout",
     "output_type": "stream",
     "text": [
      "+----------------+------------------+-------------+\n|product_category|total_transactions|total_revenue|\n+----------------+------------------+-------------+\n|     Electronics|                10|       3138.2|\n|        Clothing|                 7|        616.0|\n|           Books|                10|      2631.75|\n| Home Appliances|                 5|       1625.0|\n|     electronics|                 5|      1079.99|\n|        clothing|                 2|        150.3|\n|        CLOTHING|                 2|        145.5|\n+----------------+------------------+-------------+\n\n+-----------+------------------+-----------+---------------------+\n|customer_id|total_transactions|total_spent|avg_transaction_value|\n+-----------+------------------+-----------+---------------------+\n|      C1001|                 6|     1033.0|   172.16666666666666|\n|      C1008|                 4|    2040.25|             510.0625|\n|      C1004|                 3|      555.0|                185.0|\n|      C1007|                 2|     190.25|               95.125|\n|      C1009|                 3|     490.75|   163.58333333333334|\n|      C1005|                 5|     2330.0|                466.0|\n|      C1010|                 4|     509.95|             127.4875|\n|      C1003|                 6|    1621.25|    270.2083333333333|\n|      C1002|                 5|      340.8|                68.16|\n|      C1006|                 3|     275.49|                91.83|\n+-----------+------------------+-----------+---------------------+\n\n"
     ]
    }
   ],
   "source": [
    "\n",
    "df_silver = spark.read.format(\"delta\").load(silver_path)\n",
    "df_silver.createOrReplaceTempView(\"silver_transactions\")\n",
    "\n",
    "df_category_gold = spark.sql(\"\"\"\n",
    "    Select\n",
    "        product_category,\n",
    "        COUNT(*) AS total_transactions,\n",
    "        SUM(amount) AS total_revenue\n",
    "    From silver_transactions\n",
    "    Group by product_category\n",
    "\"\"\").show()\n",
    "\n",
    "df_customer_gold = spark.sql(\"\"\"\n",
    "    SELECT \n",
    "        customer_id,\n",
    "        COUNT(*) AS total_transactions,\n",
    "        SUM(amount) AS total_spent,\n",
    "        AVG(amount) AS avg_transaction_value\n",
    "    FROM silver_transactions\n",
    "    GROUP BY customer_id\n",
    "\"\"\").show()\n",
    "\n",
    "\n",
    "\n",
    "\n",
    "\n",
    "\n",
    "\n",
    "\n"
   ]
  }
 ],
 "metadata": {
  "application/vnd.databricks.v1+notebook": {
   "computePreferences": null,
   "dashboards": [],
   "environmentMetadata": {
    "base_environment": "",
    "environment_version": "2"
   },
   "inputWidgetPreferences": null,
   "language": "python",
   "notebookMetadata": {
    "pythonIndentUnit": 4
   },
   "notebookName": "gold_layer_pipeline",
   "widgets": {}
  },
  "language_info": {
   "name": "python"
  }
 },
 "nbformat": 4,
 "nbformat_minor": 0
}